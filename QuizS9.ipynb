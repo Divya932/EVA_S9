{
  "nbformat": 4,
  "nbformat_minor": 0,
  "metadata": {
    "kernelspec": {
      "name": "python3",
      "display_name": "Python 3"
    },
    "language_info": {
      "codemirror_mode": {
        "name": "ipython",
        "version": 3
      },
      "file_extension": ".py",
      "mimetype": "text/x-python",
      "name": "python",
      "nbconvert_exporter": "python",
      "pygments_lexer": "ipython3",
      "version": "3.6.6"
    },
    "colab": {
      "name": "QuizS9.ipynb",
      "provenance": [],
      "collapsed_sections": []
    },
    "accelerator": "GPU"
  },
  "cells": [
    {
      "cell_type": "code",
      "metadata": {
        "id": "09mvi-LXq4sq",
        "colab_type": "code",
        "outputId": "73fdf598-a129-45fc-b429-0cc607f7967a",
        "colab": {
          "base_uri": "https://localhost:8080/",
          "height": 34
        }
      },
      "source": [
        "from datetime import datetime\n",
        "print(\"Current Date/Time: \", datetime.now())"
      ],
      "execution_count": 0,
      "outputs": [
        {
          "output_type": "stream",
          "text": [
            "Current Date/Time:  2020-03-22 00:58:31.550530\n"
          ],
          "name": "stdout"
        }
      ]
    },
    {
      "cell_type": "markdown",
      "metadata": {
        "id": "QxWwB9Po6i5u",
        "colab_type": "text"
      },
      "source": [
        "# Installing Packages"
      ]
    },
    {
      "cell_type": "markdown",
      "metadata": {
        "id": "aO-7t1Y7-hV4",
        "colab_type": "text"
      },
      "source": [
        "# Imports\n",
        "Importing necessary packages and modules"
      ]
    },
    {
      "cell_type": "code",
      "metadata": {
        "id": "-yVpodAMpoCi",
        "colab_type": "code",
        "colab": {}
      },
      "source": [
        "\n",
        "from torchsummary import summary\n",
        "\n",
        "from cuda import initialize_cuda\n",
        "from data.dataset import CIFAR10\n",
        "from model import QuizDNN\n",
        "from model.utils.loss import cross_entropy_loss\n",
        "from model.utils.optimizers import sgd_optimizer\n",
        "from model.utils.callbacks import lr_scheduler\n",
        "from train import train\n",
        "from evaluate import val"
      ],
      "execution_count": 0,
      "outputs": []
    },
    {
      "cell_type": "markdown",
      "metadata": {
        "id": "-7CMwrhPDw5b",
        "colab_type": "text"
      },
      "source": [
        "# Configuration\n",
        "\n",
        "Set various parameters and hyperparameters"
      ]
    },
    {
      "cell_type": "code",
      "metadata": {
        "id": "cq_Mo-qRD79h",
        "colab_type": "code",
        "colab": {}
      },
      "source": [
        "class Args:\n",
        "\n",
        "    # Data Loading\n",
        "    # ============\n",
        "\n",
        "    train_batch_size = 64\n",
        "    val_batch_size = 64\n",
        "    num_workers = 4\n",
        "\n",
        "    # Training\n",
        "    # ========\n",
        "    random_seed = 1\n",
        "    epochs = 20\n",
        "    learning_rate = 0.01\n",
        "    momentum = 0.9\n",
        "    lr_step_size = 25\n",
        "    lr_gamma = 0.1\n",
        "\n",
        "    # Evaluation\n",
        "    # ==========\n",
        "    sample_count = 25"
      ],
      "execution_count": 0,
      "outputs": []
    },
    {
      "cell_type": "markdown",
      "metadata": {
        "id": "Ve_XDp27GSN_",
        "colab_type": "text"
      },
      "source": [
        "## Set Seed and Get GPU Availability"
      ]
    },
    {
      "cell_type": "code",
      "metadata": {
        "id": "CxVy79mmfQ1e",
        "colab_type": "code",
        "outputId": "bbc712f3-e472-4183-871f-b77af02c17cc",
        "colab": {
          "base_uri": "https://localhost:8080/",
          "height": 34
        }
      },
      "source": [
        "# Initialize CUDA and set random seed\n",
        "cuda, device = initialize_cuda(Args.random_seed)"
      ],
      "execution_count": 67,
      "outputs": [
        {
          "output_type": "stream",
          "text": [
            "GPU Available? True\n"
          ],
          "name": "stdout"
        }
      ]
    },
    {
      "cell_type": "markdown",
      "metadata": {
        "id": "cKi2t8X-CKJ5",
        "colab_type": "text"
      },
      "source": [
        "## Download Dataset\n",
        "\n",
        "Importing the CIFAR-10 class to download dataset and create data loader"
      ]
    },
    {
      "cell_type": "code",
      "metadata": {
        "id": "QZjDtZVLGXh-",
        "colab_type": "code",
        "outputId": "dab9b813-3ec9-4c2c-80c3-87cdacd89aa9",
        "colab": {
          "base_uri": "https://localhost:8080/",
          "height": 67
        }
      },
      "source": [
        "dataset = CIFAR10(\n",
        "    train_batch_size=Args.train_batch_size,\n",
        "    val_batch_size=Args.val_batch_size,\n",
        "    cuda=cuda,\n",
        "    num_workers=Args.num_workers\n",
        ")"
      ],
      "execution_count": 68,
      "outputs": [
        {
          "output_type": "stream",
          "text": [
            "Files already downloaded and verified\n",
            "Files already downloaded and verified\n",
            "Files already downloaded and verified\n"
          ],
          "name": "stdout"
        }
      ]
    },
    {
      "cell_type": "markdown",
      "metadata": {
        "id": "qFcWRAeY_MsB",
        "colab_type": "text"
      },
      "source": [
        "## Training and Validation Dataloaders\n",
        "This is the final step in data preparation. It sets the dataloader arguments and then creates the dataloader"
      ]
    },
    {
      "cell_type": "code",
      "metadata": {
        "id": "D8Tjigo2poCl",
        "colab_type": "code",
        "colab": {}
      },
      "source": [
        "# Create train data loader\n",
        "train_loader = dataset.loader(train=True)\n",
        "\n",
        "# Create val data loader\n",
        "val_loader = dataset.loader(train=False)"
      ],
      "execution_count": 0,
      "outputs": []
    },
    {
      "cell_type": "markdown",
      "metadata": {
        "id": "HSeDIqBq-6pC",
        "colab_type": "text"
      },
      "source": [
        "# Model Architecture and Summary"
      ]
    },
    {
      "cell_type": "code",
      "metadata": {
        "id": "vMmcgGBIguNc",
        "colab_type": "code",
        "outputId": "3b09c130-5b06-4955-aa5b-683a005fe653",
        "colab": {
          "base_uri": "https://localhost:8080/",
          "height": 756
        }
      },
      "source": [
        "model = QuizDNN().to(device)  # Create model\n",
        "summary(model, dataset.image_size)  # Display model summary"
      ],
      "execution_count": 70,
      "outputs": [
        {
          "output_type": "stream",
          "text": [
            "----------------------------------------------------------------\n",
            "        Layer (type)               Output Shape         Param #\n",
            "================================================================\n",
            "            Conv2d-1           [-1, 64, 32, 32]           1,792\n",
            "              ReLU-2           [-1, 64, 32, 32]               0\n",
            "       BatchNorm2d-3           [-1, 64, 32, 32]             128\n",
            "            Conv2d-4           [-1, 64, 32, 32]          36,928\n",
            "              ReLU-5           [-1, 64, 32, 32]               0\n",
            "       BatchNorm2d-6           [-1, 64, 32, 32]             128\n",
            "            Conv2d-7           [-1, 64, 32, 32]          36,928\n",
            "              ReLU-8           [-1, 64, 32, 32]               0\n",
            "       BatchNorm2d-9           [-1, 64, 32, 32]             128\n",
            "        MaxPool2d-10           [-1, 64, 16, 16]               0\n",
            "           Conv2d-11           [-1, 64, 16, 16]          36,928\n",
            "             ReLU-12           [-1, 64, 16, 16]               0\n",
            "      BatchNorm2d-13           [-1, 64, 16, 16]             128\n",
            "           Conv2d-14           [-1, 64, 16, 16]          36,928\n",
            "             ReLU-15           [-1, 64, 16, 16]               0\n",
            "      BatchNorm2d-16           [-1, 64, 16, 16]             128\n",
            "           Conv2d-17           [-1, 64, 16, 16]          36,928\n",
            "             ReLU-18           [-1, 64, 16, 16]               0\n",
            "      BatchNorm2d-19           [-1, 64, 16, 16]             128\n",
            "        MaxPool2d-20             [-1, 64, 8, 8]               0\n",
            "           Conv2d-21             [-1, 64, 8, 8]          36,928\n",
            "             ReLU-22             [-1, 64, 8, 8]               0\n",
            "      BatchNorm2d-23             [-1, 64, 8, 8]             128\n",
            "           Conv2d-24             [-1, 64, 8, 8]          36,928\n",
            "             ReLU-25             [-1, 64, 8, 8]               0\n",
            "      BatchNorm2d-26             [-1, 64, 8, 8]             128\n",
            "           Conv2d-27             [-1, 64, 8, 8]          36,928\n",
            "             ReLU-28             [-1, 64, 8, 8]               0\n",
            "      BatchNorm2d-29             [-1, 64, 8, 8]             128\n",
            "AdaptiveAvgPool2d-30             [-1, 64, 1, 1]               0\n",
            "           Linear-31                   [-1, 10]             650\n",
            "================================================================\n",
            "Total params: 299,018\n",
            "Trainable params: 299,018\n",
            "Non-trainable params: 0\n",
            "----------------------------------------------------------------\n",
            "Input size (MB): 0.01\n",
            "Forward/backward pass size (MB): 6.06\n",
            "Params size (MB): 1.14\n",
            "Estimated Total Size (MB): 7.22\n",
            "----------------------------------------------------------------\n"
          ],
          "name": "stdout"
        }
      ]
    },
    {
      "cell_type": "markdown",
      "metadata": {
        "id": "HcyKrcQEGcdp",
        "colab_type": "text"
      },
      "source": [
        "# Model Training and Validation"
      ]
    },
    {
      "cell_type": "code",
      "metadata": {
        "id": "Pk83iZb2uaEA",
        "colab_type": "code",
        "outputId": "ea9fbcbc-f881-43e0-917a-c4ebdc6ac7ee",
        "colab": {
          "base_uri": "https://localhost:8080/",
          "height": 1000
        }
      },
      "source": [
        "losses = []\n",
        "accuracies = []\n",
        "correct_samples = []\n",
        "incorrect_samples = []\n",
        "\n",
        "criterion = cross_entropy_loss()  # Create loss function\n",
        "optimizer = sgd_optimizer(model, Args.learning_rate, Args.momentum)  # Create optimizer\n",
        "scheduler = lr_scheduler(optimizer, Args.lr_step_size, Args.lr_gamma)\n",
        "last_epoch = False\n",
        "\n",
        "for epoch in range(1, Args.epochs + 1):\n",
        "    print(f'Epoch {epoch}:')\n",
        "    if epoch == Args.epochs:\n",
        "        last_epoch = True\n",
        "    train(model, train_loader, device, optimizer, criterion)\n",
        "    scheduler.step()\n",
        "    val(\n",
        "        model, val_loader, device, criterion, losses, accuracies,\n",
        "        correct_samples, incorrect_samples, Args.sample_count, last_epoch=last_epoch\n",
        "    )"
      ],
      "execution_count": 0,
      "outputs": [
        {
          "output_type": "stream",
          "text": [
            "\n",
            "  0%|          | 0/782 [00:00<?, ?it/s]\u001b[A"
          ],
          "name": "stderr"
        },
        {
          "output_type": "stream",
          "text": [
            "Epoch 1:\n"
          ],
          "name": "stdout"
        },
        {
          "output_type": "stream",
          "text": [
            "\n",
            "Loss=2.36 Batch_ID=0 Accuracy=7.81:   0%|          | 0/782 [00:00<?, ?it/s]\u001b[A\n",
            "Loss=2.36 Batch_ID=0 Accuracy=7.81:   0%|          | 1/782 [00:00<03:34,  3.64it/s]\u001b[A\n",
            "Loss=2.31 Batch_ID=1 Accuracy=10.16:   0%|          | 1/782 [00:00<03:34,  3.64it/s]\u001b[A\n",
            "Loss=2.27 Batch_ID=2 Accuracy=10.94:   0%|          | 1/782 [00:00<03:34,  3.64it/s]\u001b[A\n",
            "Loss=2.27 Batch_ID=2 Accuracy=10.94:   0%|          | 3/782 [00:00<02:42,  4.81it/s]\u001b[A\n",
            "Loss=2.19 Batch_ID=3 Accuracy=13.67:   0%|          | 3/782 [00:00<02:42,  4.81it/s]\u001b[A\n",
            "Loss=2.22 Batch_ID=4 Accuracy=13.12:   0%|          | 3/782 [00:00<02:42,  4.81it/s]\u001b[A\n",
            "Loss=2.01 Batch_ID=5 Accuracy=16.15:   0%|          | 3/782 [00:00<02:42,  4.81it/s]\u001b[A\n",
            "Loss=2.01 Batch_ID=5 Accuracy=16.15:   1%|          | 6/782 [00:00<02:04,  6.26it/s]\u001b[A\n",
            "Loss=2.07 Batch_ID=6 Accuracy=16.52:   1%|          | 6/782 [00:00<02:04,  6.26it/s]\u001b[A\n",
            "Loss=2.04 Batch_ID=7 Accuracy=19.14:   1%|          | 6/782 [00:00<02:04,  6.26it/s]\u001b[A\n",
            "Loss=2.09 Batch_ID=8 Accuracy=19.62:   1%|          | 6/782 [00:00<02:04,  6.26it/s]\u001b[A\n",
            "Loss=2.18 Batch_ID=9 Accuracy=18.91:   1%|          | 6/782 [00:00<02:04,  6.26it/s]\u001b[A\n",
            "Loss=2.18 Batch_ID=9 Accuracy=18.91:   1%|▏         | 10/782 [00:00<01:34,  8.17it/s]\u001b[A\n",
            "Loss=1.93 Batch_ID=10 Accuracy=20.17:   1%|▏         | 10/782 [00:00<01:34,  8.17it/s]\u001b[A\n",
            "Loss=1.98 Batch_ID=11 Accuracy=20.83:   1%|▏         | 10/782 [00:00<01:34,  8.17it/s]\u001b[A\n",
            "Loss=1.93 Batch_ID=12 Accuracy=21.88:   1%|▏         | 10/782 [00:00<01:34,  8.17it/s]\u001b[A\n",
            "Loss=1.93 Batch_ID=12 Accuracy=21.88:   2%|▏         | 13/782 [00:00<01:15, 10.14it/s]\u001b[A\n",
            "Loss=2.02 Batch_ID=13 Accuracy=22.32:   2%|▏         | 13/782 [00:00<01:15, 10.14it/s]\u001b[A\n",
            "Loss=1.93 Batch_ID=14 Accuracy=22.60:   2%|▏         | 13/782 [00:00<01:15, 10.14it/s]\u001b[A\n",
            "Loss=1.88 Batch_ID=15 Accuracy=23.63:   2%|▏         | 13/782 [00:00<01:15, 10.14it/s]\u001b[A\n",
            "Loss=1.88 Batch_ID=15 Accuracy=23.63:   2%|▏         | 16/782 [00:00<01:02, 12.30it/s]\u001b[A\n",
            "Loss=2.00 Batch_ID=16 Accuracy=23.62:   2%|▏         | 16/782 [00:00<01:02, 12.30it/s]\u001b[A\n",
            "Loss=1.86 Batch_ID=17 Accuracy=23.78:   2%|▏         | 16/782 [00:00<01:02, 12.30it/s]\u001b[A\n",
            "Loss=1.80 Batch_ID=18 Accuracy=24.42:   2%|▏         | 16/782 [00:01<01:02, 12.30it/s]\u001b[A\n",
            "Loss=1.80 Batch_ID=18 Accuracy=24.42:   2%|▏         | 19/782 [00:01<00:52, 14.61it/s]\u001b[A\n",
            "Loss=1.92 Batch_ID=19 Accuracy=24.69:   2%|▏         | 19/782 [00:01<00:52, 14.61it/s]\u001b[A\n",
            "Loss=1.91 Batch_ID=20 Accuracy=24.70:   2%|▏         | 19/782 [00:01<00:52, 14.61it/s]\u001b[A\n",
            "Loss=1.97 Batch_ID=21 Accuracy=24.57:   2%|▏         | 19/782 [00:01<00:52, 14.61it/s]\u001b[A\n",
            "Loss=1.97 Batch_ID=21 Accuracy=24.57:   3%|▎         | 22/782 [00:01<00:44, 16.95it/s]\u001b[A\n",
            "Loss=1.90 Batch_ID=22 Accuracy=24.73:   3%|▎         | 22/782 [00:01<00:44, 16.95it/s]\u001b[A\n",
            "Loss=1.81 Batch_ID=23 Accuracy=25.00:   3%|▎         | 22/782 [00:01<00:44, 16.95it/s]\u001b[A\n",
            "Loss=1.72 Batch_ID=24 Accuracy=25.56:   3%|▎         | 22/782 [00:01<00:44, 16.95it/s]\u001b[A\n",
            "Loss=1.72 Batch_ID=24 Accuracy=25.56:   3%|▎         | 25/782 [00:01<00:38, 19.47it/s]\u001b[A\n",
            "Loss=1.80 Batch_ID=25 Accuracy=25.84:   3%|▎         | 25/782 [00:01<00:38, 19.47it/s]\u001b[A\n",
            "Loss=1.94 Batch_ID=26 Accuracy=26.10:   3%|▎         | 25/782 [00:01<00:38, 19.47it/s]\u001b[A\n",
            "Loss=1.99 Batch_ID=27 Accuracy=26.17:   3%|▎         | 25/782 [00:01<00:38, 19.47it/s]\u001b[A\n",
            "Loss=1.99 Batch_ID=27 Accuracy=26.17:   4%|▎         | 28/782 [00:01<00:35, 21.15it/s]\u001b[A\n",
            "Loss=1.91 Batch_ID=28 Accuracy=26.51:   4%|▎         | 28/782 [00:01<00:35, 21.15it/s]\u001b[A\n",
            "Loss=1.84 Batch_ID=29 Accuracy=26.61:   4%|▎         | 28/782 [00:01<00:35, 21.15it/s]\u001b[A\n",
            "Loss=1.99 Batch_ID=30 Accuracy=26.51:   4%|▎         | 28/782 [00:01<00:35, 21.15it/s]\u001b[A\n",
            "Loss=1.99 Batch_ID=30 Accuracy=26.51:   4%|▍         | 31/782 [00:01<00:33, 22.15it/s]\u001b[A\n",
            "Loss=1.73 Batch_ID=31 Accuracy=26.86:   4%|▍         | 31/782 [00:01<00:33, 22.15it/s]\u001b[A\n",
            "Loss=1.72 Batch_ID=32 Accuracy=26.99:   4%|▍         | 31/782 [00:01<00:33, 22.15it/s]\u001b[A\n",
            "Loss=1.77 Batch_ID=33 Accuracy=27.21:   4%|▍         | 31/782 [00:01<00:33, 22.15it/s]\u001b[A\n",
            "Loss=1.77 Batch_ID=33 Accuracy=27.21:   4%|▍         | 34/782 [00:01<00:31, 24.01it/s]\u001b[A\n",
            "Loss=1.95 Batch_ID=34 Accuracy=27.14:   4%|▍         | 34/782 [00:01<00:31, 24.01it/s]\u001b[A\n",
            "Loss=1.79 Batch_ID=35 Accuracy=27.30:   4%|▍         | 34/782 [00:01<00:31, 24.01it/s]\u001b[A\n",
            "Loss=1.84 Batch_ID=36 Accuracy=27.20:   4%|▍         | 34/782 [00:01<00:31, 24.01it/s]\u001b[A\n",
            "Loss=1.84 Batch_ID=36 Accuracy=27.20:   5%|▍         | 37/782 [00:01<00:30, 24.38it/s]\u001b[A\n",
            "Loss=1.77 Batch_ID=37 Accuracy=27.34:   5%|▍         | 37/782 [00:01<00:30, 24.38it/s]\u001b[A\n",
            "Loss=1.75 Batch_ID=38 Accuracy=27.48:   5%|▍         | 37/782 [00:01<00:30, 24.38it/s]\u001b[A\n",
            "Loss=1.67 Batch_ID=39 Accuracy=27.62:   5%|▍         | 37/782 [00:01<00:30, 24.38it/s]\u001b[A\n",
            "Loss=1.72 Batch_ID=40 Accuracy=27.63:   5%|▍         | 37/782 [00:01<00:30, 24.38it/s]\u001b[A\n",
            "Loss=1.72 Batch_ID=40 Accuracy=27.63:   5%|▌         | 41/782 [00:01<00:28, 25.78it/s]\u001b[A\n",
            "Loss=1.62 Batch_ID=41 Accuracy=27.98:   5%|▌         | 41/782 [00:01<00:28, 25.78it/s]\u001b[A\n",
            "Loss=1.80 Batch_ID=42 Accuracy=27.91:   5%|▌         | 41/782 [00:01<00:28, 25.78it/s]\u001b[A\n",
            "Loss=1.76 Batch_ID=43 Accuracy=28.30:   5%|▌         | 41/782 [00:01<00:28, 25.78it/s]\u001b[A\n",
            "Loss=1.76 Batch_ID=43 Accuracy=28.30:   6%|▌         | 44/782 [00:01<00:28, 25.97it/s]\u001b[A\n",
            "Loss=1.76 Batch_ID=44 Accuracy=28.37:   6%|▌         | 44/782 [00:01<00:28, 25.97it/s]\u001b[A\n",
            "Loss=1.78 Batch_ID=45 Accuracy=28.33:   6%|▌         | 44/782 [00:02<00:28, 25.97it/s]\u001b[A\n",
            "Loss=1.88 Batch_ID=46 Accuracy=28.32:   6%|▌         | 44/782 [00:02<00:28, 25.97it/s]\u001b[A\n",
            "Loss=1.77 Batch_ID=47 Accuracy=28.29:   6%|▌         | 44/782 [00:02<00:28, 25.97it/s]\u001b[A\n",
            "Loss=1.77 Batch_ID=47 Accuracy=28.29:   6%|▌         | 48/782 [00:02<00:27, 27.11it/s]\u001b[A\n",
            "Loss=1.56 Batch_ID=48 Accuracy=28.60:   6%|▌         | 48/782 [00:02<00:27, 27.11it/s]\u001b[A\n",
            "Loss=1.67 Batch_ID=49 Accuracy=28.66:   6%|▌         | 48/782 [00:02<00:27, 27.11it/s]\u001b[A\n",
            "Loss=1.90 Batch_ID=50 Accuracy=28.68:   6%|▌         | 48/782 [00:02<00:27, 27.11it/s]\u001b[A\n",
            "Loss=1.90 Batch_ID=50 Accuracy=28.68:   7%|▋         | 51/782 [00:02<00:28, 25.99it/s]\u001b[A\n",
            "Loss=1.70 Batch_ID=51 Accuracy=28.91:   7%|▋         | 51/782 [00:02<00:28, 25.99it/s]\u001b[A\n",
            "Loss=1.76 Batch_ID=52 Accuracy=29.10:   7%|▋         | 51/782 [00:02<00:28, 25.99it/s]\u001b[A\n",
            "Loss=1.80 Batch_ID=53 Accuracy=29.28:   7%|▋         | 51/782 [00:02<00:28, 25.99it/s]\u001b[A\n",
            "Loss=1.80 Batch_ID=53 Accuracy=29.28:   7%|▋         | 54/782 [00:02<00:28, 25.51it/s]\u001b[A\n",
            "Loss=1.79 Batch_ID=54 Accuracy=29.43:   7%|▋         | 54/782 [00:02<00:28, 25.51it/s]\u001b[A\n",
            "Loss=1.74 Batch_ID=55 Accuracy=29.55:   7%|▋         | 54/782 [00:02<00:28, 25.51it/s]"
          ],
          "name": "stderr"
        }
      ]
    },
    {
      "cell_type": "code",
      "metadata": {
        "id": "xMFYHCFVA7Z-",
        "colab_type": "code",
        "outputId": "d794d0fb-8707-4b8c-a461-69b6ce3606c3",
        "colab": {
          "base_uri": "https://localhost:8080/",
          "height": 350
        }
      },
      "source": [
        "plot_metric(accuracies, 'Accuracy')"
      ],
      "execution_count": 0,
      "outputs": [
        {
          "output_type": "display_data",
          "data": {
            "image/png": "[encoded data removed]",
            "text/plain": [
              "<Figure size 504x360 with 1 Axes>"
            ]
          },
          "metadata": {
            "tags": []
          }
        }
      ]
    }
  ]
}